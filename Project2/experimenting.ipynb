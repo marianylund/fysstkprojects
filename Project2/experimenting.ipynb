{
 "metadata": {
  "language_info": {
   "codemirror_mode": {
    "name": "ipython",
    "version": 3
   },
   "file_extension": ".py",
   "mimetype": "text/x-python",
   "name": "python",
   "nbconvert_exporter": "python",
   "pygments_lexer": "ipython3",
   "version": "3.7.4-final"
  },
  "orig_nbformat": 2,
  "kernelspec": {
   "name": "Python 3.7.4 64-bit ('base': conda)",
   "display_name": "Python 3.7.4 64-bit ('base': conda)",
   "metadata": {
    "interpreter": {
     "hash": "a8147367122646829d6dc109dca21a423f2c3c24999a520cb8a303716a867937"
    }
   }
  }
 },
 "nbformat": 4,
 "nbformat_minor": 2,
 "cells": [
  {
   "cell_type": "code",
   "execution_count": 1,
   "metadata": {},
   "outputs": [],
   "source": [
    "import numpy as np\n",
    "from random import random, seed\n",
    "import json\n",
    "import pathlib\n",
    "\n",
    "from RegLib.SamplingMethod import SamplingMethod\n",
    "from RegLib.RegressionMethod import RegressionType\n",
    "from RegLib.HelperFunctions import confidence_interval, create_frankie_data, create_X\n",
    "from RegLib.load_save_data import *\n",
    "from PROJECT_SETUP import SEED, SAVE_FIG, CHECKPOINTS_DIR"
   ]
  },
  {
   "cell_type": "code",
   "execution_count": 2,
   "metadata": {},
   "outputs": [],
   "source": [
    "N = 20\n",
    "noise_strength = 0.1\n",
    "p = 2\n",
    "\n",
    "x, y, z = create_frankie_data(SEED, N, noise_strength)\n",
    "X = create_X(x, y, p)"
   ]
  },
  {
   "cell_type": "code",
   "execution_count": 3,
   "metadata": {},
   "outputs": [],
   "source": [
    "X = create_X(x, y, n = p)\n",
    "perm_index = np.random.permutation(len(z))\n",
    "sampling = SamplingMethod().train_and_test(X, z, perm_index = perm_index, model_type = RegressionType.OLS)"
   ]
  },
  {
   "cell_type": "code",
   "execution_count": 5,
   "metadata": {},
   "outputs": [
    {
     "output_type": "execute_result",
     "data": {
      "text/plain": [
       "{'model_type': 'OLS',\n",
       " 'model_alpha': 0.0,\n",
       " 'beta': [[0.3896012611790875],\n",
       "  [-0.37386131042466975],\n",
       "  [-0.16485224434195886],\n",
       "  [0.07746748697913156],\n",
       "  [0.23397485954995578],\n",
       "  [-0.18787191137852205]],\n",
       " 'sampling_method': 'SamplingMethod',\n",
       " 'test_r2': 0.7792926732612897,\n",
       " 'test_mse': 0.021295696444406216,\n",
       " 'test_bias': 0.021295696444406216,\n",
       " 'seed': 2018,\n",
       " 'N': 20,\n",
       " 'noise_strength': 0.1,\n",
       " 'p': 2}"
      ]
     },
     "metadata": {},
     "execution_count": 5
    }
   ],
   "source": [
    "run_info = {'seed': SEED,\n",
    "'N': N,\n",
    "'noise_strength': noise_strength,\n",
    "'p': p,}\n",
    "\n",
    "full_dict = add_more_info_to_dict(sampling.to_dict(), run_info)\n",
    "full_dict"
   ]
  },
  {
   "cell_type": "code",
   "execution_count": 18,
   "metadata": {},
   "outputs": [],
   "source": []
  }
 ]
}