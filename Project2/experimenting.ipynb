{
 "metadata": {
  "language_info": {
   "codemirror_mode": {
    "name": "ipython",
    "version": 3
   },
   "file_extension": ".py",
   "mimetype": "text/x-python",
   "name": "python",
   "nbconvert_exporter": "python",
   "pygments_lexer": "ipython3",
   "version": "3.7.4-final"
  },
  "orig_nbformat": 2,
  "kernelspec": {
   "name": "Python 3.7.4 64-bit ('base': conda)",
   "display_name": "Python 3.7.4 64-bit ('base': conda)",
   "metadata": {
    "interpreter": {
     "hash": "a8147367122646829d6dc109dca21a423f2c3c24999a520cb8a303716a867937"
    }
   }
  }
 },
 "nbformat": 4,
 "nbformat_minor": 2,
 "cells": [
  {
   "cell_type": "code",
   "execution_count": 1,
   "metadata": {},
   "outputs": [],
   "source": [
    "import numpy as np\n",
    "from random import random, seed\n",
    "import json\n",
    "import pathlib\n",
    "\n",
    "from RegLib.SamplingMethod import SamplingMethod\n",
    "from RegLib.RegressionMethod import RegressionType\n",
    "from RegLib.HelperFunctions import confidence_interval, create_frankie_data, create_X\n",
    "from RegLib.load_save_data import *\n",
    "from PROJECT_SETUP import SEED, SAVE_FIG, CHECKPOINTS_DIR"
   ]
  },
  {
   "cell_type": "code",
   "execution_count": 2,
   "metadata": {},
   "outputs": [],
   "source": [
    "N = 20\n",
    "noise_strength = 0.1\n",
    "p = 2\n",
    "\n",
    "x, y, z = create_frankie_data(SEED, N, noise_strength)\n",
    "X = create_X(x, y, p)"
   ]
  },
  {
   "cell_type": "code",
   "execution_count": 3,
   "metadata": {},
   "outputs": [],
   "source": [
    "X = create_X(x, y, n = p)\n",
    "perm_index = np.random.permutation(len(z))\n",
    "sampling = SamplingMethod().train_and_test(X, z, perm_index = perm_index, model_type = RegressionType.OLS)"
   ]
  },
  {
   "cell_type": "code",
   "execution_count": 5,
   "metadata": {},
   "outputs": [
    {
     "output_type": "execute_result",
     "data": {
      "text/plain": [
       "{'model_type': 'OLS',\n",
       " 'model_alpha': 0.0,\n",
       " 'beta': [[0.3896012611790875],\n",
       "  [-0.37386131042466975],\n",
       "  [-0.16485224434195886],\n",
       "  [0.07746748697913156],\n",
       "  [0.23397485954995578],\n",
       "  [-0.18787191137852205]],\n",
       " 'sampling_method': 'SamplingMethod',\n",
       " 'test_r2': 0.7792926732612897,\n",
       " 'test_mse': 0.021295696444406216,\n",
       " 'test_bias': 0.021295696444406216,\n",
       " 'seed': 2018,\n",
       " 'N': 20,\n",
       " 'noise_strength': 0.1,\n",
       " 'p': 2}"
      ]
     },
     "metadata": {},
     "execution_count": 5
    }
   ],
   "source": [
    "run_info = {'seed': SEED,\n",
    "'N': N,\n",
    "'noise_strength': noise_strength,\n",
    "'p': p,}\n",
    "\n",
    "full_dict = add_more_info_to_dict(sampling.to_dict(), run_info)\n",
    "full_dict"
   ]
  },
  {
   "cell_type": "code",
   "execution_count": 5,
   "metadata": {
    "tags": []
   },
   "outputs": [
    {
     "output_type": "stream",
     "name": "stdout",
     "text": [
      "Own inversion\n[[3.87165778]\n [3.04909084]]\nsgdreg from scikit\n[3.82239354] [2.99584762]\ntheta from own gd\n[[3.87165778]\n [3.04909084]]\nX.shape:  (100, 2)\nxi:  (1, 2)  theta:  (2, 1)  yi:  (1, 1)\ngradients:  (2, 1)  theta:  (2, 1)\nxi:  (1, 2)  theta:  (2, 1)  yi:  (1, 1)\ngradients:  (2, 1)  theta:  (2, 1)\nxi:  (1, 2)  theta:  (2, 1)  yi:  (1, 1)\ngradients:  (2, 1)  theta:  (2, 1)\nxi:  (1, 2)  theta:  (2, 1)  yi:  (1, 1)\ngradients:  (2, 1)  theta:  (2, 1)\nxi:  (1, 2)  theta:  (2, 1)  yi:  (1, 1)\ngradients:  (2, 1)  theta:  (2, 1)\ntheta from own sdg\n[[0.70455451]\n [3.06666138]]\n"
     ]
    },
    {
     "output_type": "display_data",
     "data": {
      "text/plain": "<Figure size 432x288 with 1 Axes>",
      "image/png": "[encoded data removed]"
     },
     "metadata": {
      "needs_background": "light"
     }
    }
   ],
   "source": [
    "# Importing various packages\n",
    "from math import exp, sqrt\n",
    "from random import random, seed\n",
    "import numpy as np\n",
    "import matplotlib.pyplot as plt\n",
    "from sklearn.linear_model import SGDRegressor\n",
    "\n",
    "m = 100\n",
    "x = 2*np.random.rand(m,1)\n",
    "y = 4+3*x+np.random.randn(m,1)\n",
    "\n",
    "X = np.c_[np.ones((m,1)), x]\n",
    "theta_linreg = np.linalg.inv(X.T @ X) @ (X.T @ y)\n",
    "print(\"Own inversion\")\n",
    "print(theta_linreg)\n",
    "sgdreg = SGDRegressor(max_iter = 50, penalty=None, eta0=0.1)\n",
    "sgdreg.fit(x,y.ravel())\n",
    "print(\"sgdreg from scikit\")\n",
    "print(sgdreg.intercept_, sgdreg.coef_)\n",
    "\n",
    "\n",
    "theta = np.random.randn(2,1)\n",
    "eta = 0.1\n",
    "Niterations = 1000\n",
    "\n",
    "\n",
    "for iter in range(Niterations):\n",
    "    gradients = 2.0/m*X.T @ ((X @ theta)-y)\n",
    "    theta -= eta*gradients\n",
    "print(\"theta from own gd\")\n",
    "print(theta)\n",
    "\n",
    "xnew = np.array([[0],[2]])\n",
    "Xnew = np.c_[np.ones((2,1)), xnew]\n",
    "ypredict = Xnew.dot(theta)\n",
    "ypredict2 = Xnew.dot(theta_linreg)\n",
    "\n",
    "\n",
    "n_epochs = 5\n",
    "t0, t1 = 5, 50\n",
    "def learning_schedule(t):\n",
    "    return t0/(t+t1)\n",
    "\n",
    "theta = np.random.randn(2,1)\n",
    "print(\"X.shape: \", X.shape)\n",
    "for epoch in range(n_epochs):\n",
    "    for i in range(1):\n",
    "        random_index = np.random.randint(m)\n",
    "        xi = X[random_index:random_index+1]\n",
    "        yi = y[random_index:random_index+1]\n",
    "        print(\"xi: \", xi.shape, \" theta: \", theta.shape, \" yi: \", yi.shape)\n",
    "        gradients = 2 * xi.T @ ((xi @ theta)-yi)\n",
    "        eta = learning_schedule(epoch*m+i)\n",
    "        theta = theta - eta*gradients\n",
    "        print(\"gradients: \", gradients.shape, \" theta: \", theta.shape)\n",
    "print(\"theta from own sdg\")\n",
    "print(theta)\n",
    "\n",
    "plt.plot(xnew, ypredict, \"r-\")\n",
    "plt.plot(xnew, ypredict2, \"b-\")\n",
    "plt.plot(x, y ,'ro')\n",
    "plt.axis([0,2.0,0, 15.0])\n",
    "plt.xlabel(r'$x$')\n",
    "plt.ylabel(r'$y$')\n",
    "plt.title(r'Random numbers ')\n",
    "plt.show()"
   ]
  },
  {
   "cell_type": "code",
   "execution_count": null,
   "metadata": {},
   "outputs": [],
   "source": []
  }
 ]
}